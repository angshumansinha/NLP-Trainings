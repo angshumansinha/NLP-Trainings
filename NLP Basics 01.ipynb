{
 "cells": [
  {
   "cell_type": "markdown",
   "id": "6411aa17",
   "metadata": {},
   "source": [
    "<h1> <center> Tokenization and Removing Stop words and punctuation </h1>"
   ]
  },
  {
   "cell_type": "code",
   "execution_count": 1,
   "id": "97535e1f",
   "metadata": {},
   "outputs": [],
   "source": [
    "\"\"\"\n",
    "**********************************************************Case *****************************************************************\n",
    "User ----> Review : What a stupid app! -----> Chatbot\n",
    "                                                 |\n",
    "User <----- Response: Glad to know that<---------\n",
    "\n",
    "\n",
    "\n",
    "What went wrong??\n",
    "\n",
    "\n",
    "\n",
    "The model failed to recognize and judge the sentiment of the statement. So we need ways to deal with this. NLP techniques \n",
    "come in handy.\n",
    "\n",
    "\n",
    "\n",
    "\n",
    "Sentence-------> Process -----> Train Model ------> Model Assigns a number to each word ------> Analysis/Classification\n",
    "\n",
    "\n",
    "\n",
    "This processing involves Tokenization, Removing Stop words, Stemming, Lemmatization and much more. We will deal with Tokenization\n",
    "and Removing Stop words and punctuation in this tutorial. So, let us get started.\n",
    "\n",
    "Lets start with importing the nltk package\n",
    "\n",
    "\"\"\"\n",
    "\n",
    "import nltk"
   ]
  },
  {
   "cell_type": "code",
   "execution_count": 2,
   "id": "c6cf8fe9",
   "metadata": {},
   "outputs": [
    {
     "name": "stderr",
     "output_type": "stream",
     "text": [
      "[nltk_data] Downloading package punkt to\n",
      "[nltk_data]     C:\\Users\\angsh\\AppData\\Roaming\\nltk_data...\n",
      "[nltk_data]   Package punkt is already up-to-date!\n"
     ]
    },
    {
     "data": {
      "text/plain": [
       "True"
      ]
     },
     "execution_count": 2,
     "metadata": {},
     "output_type": "execute_result"
    }
   ],
   "source": [
    "#lets download the punkt package\n",
    "nltk.download(\"punkt\")"
   ]
  },
  {
   "cell_type": "markdown",
   "id": "807bab2b",
   "metadata": {},
   "source": [
    "<h1> <center>  TOKENIZATION"
   ]
  },
  {
   "cell_type": "code",
   "execution_count": 4,
   "id": "a3c0f724",
   "metadata": {},
   "outputs": [],
   "source": [
    "\"\"\"\n",
    "\n",
    "WHat is tokenize? \n",
    "Tokenization is essentially splitting a phrase, sentence, paragraph, \n",
    "or an entire text document into smaller units, such as individual words or terms. Each of these smaller units are called tokens.\n",
    "\"\"\"\n",
    "#let us write a sentence\n",
    "sentence=\"Hi there! I am Angshuman. This a NLP Basics : 01 session. Hope you like it. Hurray!!\""
   ]
  },
  {
   "attachments": {
    "image.png": {
     "image/png": "[encoded data removed]"
    }
   },
   "cell_type": "markdown",
   "id": "3c203a71",
   "metadata": {},
   "source": [
    "![image.png](attachment:image.png)"
   ]
  },
  {
   "cell_type": "code",
   "execution_count": 5,
   "id": "79a61cd7",
   "metadata": {},
   "outputs": [
    {
     "data": {
      "text/plain": [
       "['Hi',\n",
       " 'there',\n",
       " '!',\n",
       " 'I',\n",
       " 'am',\n",
       " 'Angshuman',\n",
       " '.',\n",
       " 'This',\n",
       " 'a',\n",
       " 'NLP',\n",
       " 'Basics',\n",
       " ':',\n",
       " '01',\n",
       " 'session',\n",
       " '.',\n",
       " 'Hope',\n",
       " 'you',\n",
       " 'like',\n",
       " 'it',\n",
       " '.',\n",
       " 'Hurray',\n",
       " '!',\n",
       " '!']"
      ]
     },
     "execution_count": 5,
     "metadata": {},
     "output_type": "execute_result"
    }
   ],
   "source": [
    "#let us tokenize\n",
    "nltk.word_tokenize(sentence)"
   ]
  },
  {
   "cell_type": "markdown",
   "id": "fa906e3b",
   "metadata": {},
   "source": [
    "<H1> <CENTER> REMOVING STOP WORDS AND PUNCTUTAION"
   ]
  },
  {
   "cell_type": "code",
   "execution_count": 7,
   "id": "f15a1518",
   "metadata": {},
   "outputs": [
    {
     "name": "stderr",
     "output_type": "stream",
     "text": [
      "[nltk_data] Downloading package stopwords to\n",
      "[nltk_data]     C:\\Users\\angsh\\AppData\\Roaming\\nltk_data...\n",
      "[nltk_data]   Unzipping corpora\\stopwords.zip.\n"
     ]
    },
    {
     "data": {
      "text/plain": [
       "True"
      ]
     },
     "execution_count": 7,
     "metadata": {},
     "output_type": "execute_result"
    }
   ],
   "source": [
    "nltk.download('stopwords')"
   ]
  },
  {
   "cell_type": "code",
   "execution_count": 8,
   "id": "de4ed800",
   "metadata": {},
   "outputs": [
    {
     "data": {
      "text/plain": [
       "['i',\n",
       " 'me',\n",
       " 'my',\n",
       " 'myself',\n",
       " 'we',\n",
       " 'our',\n",
       " 'ours',\n",
       " 'ourselves',\n",
       " 'you',\n",
       " \"you're\",\n",
       " \"you've\",\n",
       " \"you'll\",\n",
       " \"you'd\",\n",
       " 'your',\n",
       " 'yours',\n",
       " 'yourself',\n",
       " 'yourselves',\n",
       " 'he',\n",
       " 'him',\n",
       " 'his',\n",
       " 'himself',\n",
       " 'she',\n",
       " \"she's\",\n",
       " 'her',\n",
       " 'hers',\n",
       " 'herself',\n",
       " 'it',\n",
       " \"it's\",\n",
       " 'its',\n",
       " 'itself',\n",
       " 'they',\n",
       " 'them',\n",
       " 'their',\n",
       " 'theirs',\n",
       " 'themselves',\n",
       " 'what',\n",
       " 'which',\n",
       " 'who',\n",
       " 'whom',\n",
       " 'this',\n",
       " 'that',\n",
       " \"that'll\",\n",
       " 'these',\n",
       " 'those',\n",
       " 'am',\n",
       " 'is',\n",
       " 'are',\n",
       " 'was',\n",
       " 'were',\n",
       " 'be',\n",
       " 'been',\n",
       " 'being',\n",
       " 'have',\n",
       " 'has',\n",
       " 'had',\n",
       " 'having',\n",
       " 'do',\n",
       " 'does',\n",
       " 'did',\n",
       " 'doing',\n",
       " 'a',\n",
       " 'an',\n",
       " 'the',\n",
       " 'and',\n",
       " 'but',\n",
       " 'if',\n",
       " 'or',\n",
       " 'because',\n",
       " 'as',\n",
       " 'until',\n",
       " 'while',\n",
       " 'of',\n",
       " 'at',\n",
       " 'by',\n",
       " 'for',\n",
       " 'with',\n",
       " 'about',\n",
       " 'against',\n",
       " 'between',\n",
       " 'into',\n",
       " 'through',\n",
       " 'during',\n",
       " 'before',\n",
       " 'after',\n",
       " 'above',\n",
       " 'below',\n",
       " 'to',\n",
       " 'from',\n",
       " 'up',\n",
       " 'down',\n",
       " 'in',\n",
       " 'out',\n",
       " 'on',\n",
       " 'off',\n",
       " 'over',\n",
       " 'under',\n",
       " 'again',\n",
       " 'further',\n",
       " 'then',\n",
       " 'once',\n",
       " 'here',\n",
       " 'there',\n",
       " 'when',\n",
       " 'where',\n",
       " 'why',\n",
       " 'how',\n",
       " 'all',\n",
       " 'any',\n",
       " 'both',\n",
       " 'each',\n",
       " 'few',\n",
       " 'more',\n",
       " 'most',\n",
       " 'other',\n",
       " 'some',\n",
       " 'such',\n",
       " 'no',\n",
       " 'nor',\n",
       " 'not',\n",
       " 'only',\n",
       " 'own',\n",
       " 'same',\n",
       " 'so',\n",
       " 'than',\n",
       " 'too',\n",
       " 'very',\n",
       " 's',\n",
       " 't',\n",
       " 'can',\n",
       " 'will',\n",
       " 'just',\n",
       " 'don',\n",
       " \"don't\",\n",
       " 'should',\n",
       " \"should've\",\n",
       " 'now',\n",
       " 'd',\n",
       " 'll',\n",
       " 'm',\n",
       " 'o',\n",
       " 're',\n",
       " 've',\n",
       " 'y',\n",
       " 'ain',\n",
       " 'aren',\n",
       " \"aren't\",\n",
       " 'couldn',\n",
       " \"couldn't\",\n",
       " 'didn',\n",
       " \"didn't\",\n",
       " 'doesn',\n",
       " \"doesn't\",\n",
       " 'hadn',\n",
       " \"hadn't\",\n",
       " 'hasn',\n",
       " \"hasn't\",\n",
       " 'haven',\n",
       " \"haven't\",\n",
       " 'isn',\n",
       " \"isn't\",\n",
       " 'ma',\n",
       " 'mightn',\n",
       " \"mightn't\",\n",
       " 'mustn',\n",
       " \"mustn't\",\n",
       " 'needn',\n",
       " \"needn't\",\n",
       " 'shan',\n",
       " \"shan't\",\n",
       " 'shouldn',\n",
       " \"shouldn't\",\n",
       " 'wasn',\n",
       " \"wasn't\",\n",
       " 'weren',\n",
       " \"weren't\",\n",
       " 'won',\n",
       " \"won't\",\n",
       " 'wouldn',\n",
       " \"wouldn't\"]"
      ]
     },
     "execution_count": 8,
     "metadata": {},
     "output_type": "execute_result"
    }
   ],
   "source": [
    "\"\"\"\n",
    "Once we get our tokens, the next step is to remove all the stop words and punctutaion.\n",
    "\n",
    "What are stop words? Words that add grammatical sense to a sentence. Such as a, an , the , this, that, he, she etc.\n",
    "\"\"\"\n",
    "from nltk.corpus import stopwords\n",
    "stop_words=stopwords.words(\"english\")#the language package\n",
    "stop_words"
   ]
  },
  {
   "cell_type": "code",
   "execution_count": 9,
   "id": "a82c70ae",
   "metadata": {},
   "outputs": [
    {
     "data": {
      "text/plain": [
       "'!\"#$%&\\'()*+,-./:;<=>?@[\\\\]^_`{|}~'"
      ]
     },
     "execution_count": 9,
     "metadata": {},
     "output_type": "execute_result"
    }
   ],
   "source": [
    "#the punctutations\n",
    "import string\n",
    "punctuations=string.punctuation\n",
    "punctuations"
   ]
  },
  {
   "cell_type": "markdown",
   "id": "7b33cbcd",
   "metadata": {},
   "source": [
    "<h1> <center> Combining the steps </h1> </center>"
   ]
  },
  {
   "cell_type": "code",
   "execution_count": 16,
   "id": "faddc780",
   "metadata": {},
   "outputs": [],
   "source": [
    "final=[]#to store the processed final list\n",
    "removed=[]# to store the removed stopwords and punctuations\n",
    "\n",
    "sentence=sentence.lower()# converting to lower case\n",
    "\n",
    "for x in nltk.word_tokenize(sentence):\n",
    "    if x in stop_words or x in punctuations:\n",
    "        removed.append(x)\n",
    "    else:\n",
    "        final.append(x)"
   ]
  },
  {
   "cell_type": "code",
   "execution_count": 17,
   "id": "43ae6345",
   "metadata": {},
   "outputs": [
    {
     "data": {
      "text/plain": [
       "'hi there! i am angshuman. this a nlp basics : 01 session. hope you like it. hurray!!'"
      ]
     },
     "execution_count": 17,
     "metadata": {},
     "output_type": "execute_result"
    }
   ],
   "source": [
    "sentence"
   ]
  },
  {
   "cell_type": "code",
   "execution_count": 18,
   "id": "52e56e6d",
   "metadata": {},
   "outputs": [
    {
     "data": {
      "text/plain": [
       "['there',\n",
       " '!',\n",
       " 'i',\n",
       " 'am',\n",
       " '.',\n",
       " 'this',\n",
       " 'a',\n",
       " ':',\n",
       " '.',\n",
       " 'you',\n",
       " 'it',\n",
       " '.',\n",
       " '!',\n",
       " '!']"
      ]
     },
     "execution_count": 18,
     "metadata": {},
     "output_type": "execute_result"
    }
   ],
   "source": [
    "removed"
   ]
  },
  {
   "cell_type": "code",
   "execution_count": 19,
   "id": "b818f64d",
   "metadata": {},
   "outputs": [
    {
     "data": {
      "text/plain": [
       "['hi', 'angshuman', 'nlp', 'basics', '01', 'session', 'hope', 'like', 'hurray']"
      ]
     },
     "execution_count": 19,
     "metadata": {},
     "output_type": "execute_result"
    }
   ],
   "source": [
    "final"
   ]
  }
 ],
 "metadata": {
  "kernelspec": {
   "display_name": "Python 3",
   "language": "python",
   "name": "python3"
  },
  "language_info": {
   "codemirror_mode": {
    "name": "ipython",
    "version": 3
   },
   "file_extension": ".py",
   "mimetype": "text/x-python",
   "name": "python",
   "nbconvert_exporter": "python",
   "pygments_lexer": "ipython3",
   "version": "3.8.8"
  }
 },
 "nbformat": 4,
 "nbformat_minor": 5
}
