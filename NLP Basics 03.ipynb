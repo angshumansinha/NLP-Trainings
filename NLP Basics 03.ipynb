{
 "cells": [
  {
   "cell_type": "markdown",
   "id": "0c01df8e",
   "metadata": {},
   "source": [
    "<h1> <center> WORD VECTORIZATION </h1> </center>"
   ]
  },
  {
   "cell_type": "code",
   "execution_count": 3,
   "id": "9541db52",
   "metadata": {},
   "outputs": [],
   "source": [
    "\"\"\"\n",
    "SO you got to know how to preprocess the words before fitting into a ML/DL model. Now let us know how to convert a word \n",
    "to a mathematical value, aka WORD VECTORIZATION.\n",
    "\n",
    "COnverting words to vectors\n",
    "\n",
    "4 types of methods\n",
    "1. Bag of Words\n",
    "2. N-gram method\n",
    "3. Tf-Idf Method\n",
    "4. Word2Vec\n",
    "\n",
    "Let us talk about Bag of Words method\n",
    "Representing word by frequencies\n",
    "\n",
    "Sentence 1: The Burger is tasty -> Burger, tasty\n",
    "Sentence 2: The Food is delicious -> Food, delicious\n",
    "Sentence 3: The Food is awful -> Food, awful\n",
    "\n",
    "\n",
    "********************************************************\n",
    "| Sentence | awful | burger | delicious | food | tasty |\n",
    "--------------------------------------------------------\n",
    "|   1      |  0    |  1     |  0        |  0   |  1    |\n",
    "--------------------------------------------------------\n",
    "|   2      |  0    |  0     |  1        |  1   |  0    |\n",
    "--------------------------------------------------------\n",
    "|   3      |  1    |  0     |  0        |  1   |  0    |\n",
    "********************************************************\n",
    "\n",
    "Disadvantages:\n",
    "\n",
    "1. Weightage to unimportant terms. For a company, words like tasty, awful matter more than words like burger\n",
    "2. Sentence sequence is not preserved. So, if I say are you smart? and you are smart, machine treats both equally. But, \n",
    "they differ.\n",
    "3. Semantic meaning is not preserved.\n",
    "4. Dimensionality problem\n",
    "\n",
    "\n",
    "Let us look for the implementation\n",
    "\n",
    "\"\"\"\n",
    "\n",
    "# importing Count Vectorizer Package\n",
    "from sklearn.feature_extraction.text import CountVectorizer \n",
    "\n",
    "text=[\"Hobbs and Shaw is one of the best movies of 2019. Idris Elba wanted to have a samosa date with Dwayne Johnson. He wanted to win the Oscars\"]\n",
    "vectorizer=CountVectorizer()\n",
    "X=vectorizer.fit_transform(text)"
   ]
  },
  {
   "cell_type": "code",
   "execution_count": 4,
   "id": "69ef601b",
   "metadata": {},
   "outputs": [
    {
     "name": "stdout",
     "output_type": "stream",
     "text": [
      "['2019', 'and', 'best', 'date', 'dwayne', 'elba', 'have', 'he', 'hobbs', 'idris', 'is', 'johnson', 'movies', 'of', 'one', 'oscars', 'samosa', 'shaw', 'the', 'to', 'wanted', 'win', 'with']\n"
     ]
    }
   ],
   "source": [
    "print(vectorizer.get_feature_names()) #count vectorixer automatically does the lower case"
   ]
  },
  {
   "cell_type": "code",
   "execution_count": 5,
   "id": "b06fd3eb",
   "metadata": {},
   "outputs": [
    {
     "name": "stdout",
     "output_type": "stream",
     "text": [
      "[[1 1 1 1 1 1 1 1 1 1 1 1 1 2 1 1 1 1 2 2 2 1 1]]\n"
     ]
    }
   ],
   "source": [
    "print(X.toarray())"
   ]
  }
 ],
 "metadata": {
  "kernelspec": {
   "display_name": "Python 3",
   "language": "python",
   "name": "python3"
  },
  "language_info": {
   "codemirror_mode": {
    "name": "ipython",
    "version": 3
   },
   "file_extension": ".py",
   "mimetype": "text/x-python",
   "name": "python",
   "nbconvert_exporter": "python",
   "pygments_lexer": "ipython3",
   "version": "3.8.8"
  }
 },
 "nbformat": 4,
 "nbformat_minor": 5
}
