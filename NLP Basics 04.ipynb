{
 "cells": [
  {
   "cell_type": "markdown",
   "id": "a76aba28",
   "metadata": {},
   "source": [
    "<h1> <center> Word Vectorization - TF-IDF: Term Frequency Inverse Document Frequency </h1> </center>"
   ]
  },
  {
   "cell_type": "code",
   "execution_count": 7,
   "id": "2b5e6bc6",
   "metadata": {
    "collapsed": true
   },
   "outputs": [
    {
     "ename": "ImportError",
     "evalue": "cannot import name 'TfidfVectorizer' from 'sklearn.feature_extraction' (C:\\Users\\angsh\\anaconda3\\lib\\site-packages\\sklearn\\feature_extraction\\__init__.py)",
     "output_type": "error",
     "traceback": [
      "\u001b[1;31m---------------------------------------------------------------------------\u001b[0m",
      "\u001b[1;31mImportError\u001b[0m                               Traceback (most recent call last)",
      "\u001b[1;32m<ipython-input-7-3d2c9bbe45af>\u001b[0m in \u001b[0;36m<module>\u001b[1;34m\u001b[0m\n\u001b[0;32m     49\u001b[0m \u001b[1;33m\u001b[0m\u001b[0m\n\u001b[0;32m     50\u001b[0m \u001b[1;31m#IfidVectorizer\u001b[0m\u001b[1;33m\u001b[0m\u001b[1;33m\u001b[0m\u001b[1;33m\u001b[0m\u001b[0m\n\u001b[1;32m---> 51\u001b[1;33m \u001b[1;32mfrom\u001b[0m \u001b[0msklearn\u001b[0m\u001b[1;33m.\u001b[0m\u001b[0mfeature_extraction\u001b[0m \u001b[1;32mimport\u001b[0m \u001b[0mTfidfVectorizer\u001b[0m\u001b[1;33m\u001b[0m\u001b[1;33m\u001b[0m\u001b[0m\n\u001b[0m\u001b[0;32m     52\u001b[0m \u001b[1;32mimport\u001b[0m \u001b[0mpandas\u001b[0m \u001b[1;32mas\u001b[0m \u001b[0mpd\u001b[0m\u001b[1;33m\u001b[0m\u001b[1;33m\u001b[0m\u001b[0m\n\u001b[0;32m     53\u001b[0m \u001b[1;33m\u001b[0m\u001b[0m\n",
      "\u001b[1;31mImportError\u001b[0m: cannot import name 'TfidfVectorizer' from 'sklearn.feature_extraction' (C:\\Users\\angsh\\anaconda3\\lib\\site-packages\\sklearn\\feature_extraction\\__init__.py)"
     ]
    }
   ],
   "source": [
    "\"\"\"\n",
    "SO you got to know how to preprocess the words before fitting into a ML/DL model. Now let us know how to convert a word \n",
    "to a mathematical value, aka WORD VECTORIZATION.\n",
    "\n",
    "COnverting words to vectors\n",
    "\n",
    "4 types of methods\n",
    "1. Bag of Words\n",
    "2. N-gram method\n",
    "3. Tf-Idf Method\n",
    "4. Word2Vec\n",
    "\n",
    "Let us talk about Tf Idf Method\n",
    "\n",
    "*************************************************************Steps in TF IDF **************************************************\n",
    "\n",
    "1. Calculate Term Frequency(TF) for word for every sentence\n",
    "2. TF= Number of occurences of the word in sentence/ Total no of words in sentence\n",
    "3. Calculate IDF (Inverse Document Frequency)\n",
    "4. IDF = log (Total No of sentences or documents/ Total Sentences or docs containing the word)\n",
    "5. Calculate TF * IDF\n",
    "********************************************************************************************************************************\n",
    "\n",
    "Sentence 1: The Burger is tasty \n",
    "Sentence 2: The Food is delicious \n",
    "Sentence 3: The Food is awful \n",
    "\n",
    "*****************************************************************************\n",
    "|                {Term Frequency}              |          {TF -IDF}         |\n",
    "-----------------------------------------------------------------------------\n",
    "| Words     | Sent1 | Sent2 | Sent 3 | IDF          | Sent1 | Sent2 | Sent3 |\n",
    "-----------------------------------------------------------------------------\n",
    "| The       | 0/4=0 | 1/4   | 1/4    | log(3/2)=0.58|  0    | 0.145 | 0.145 |\n",
    "-----------------------------------------------------------------------------\n",
    "| Burger    | 1/4   | 0     | 0      | log(3/1)=1.58|  0.39 | 0     | 0     |\n",
    "-----------------------------------------------------------------------------\n",
    "| is        | 1/4   | 1/4   | 1/4    | log(3/3)=0   |  0    | 0     | 0     |\n",
    "-----------------------------------------------------------------------------\n",
    "| tasty     | 1/4   | 0     | 0      | log(3/1)=1.58|  0.39 | 0     | 0     |\n",
    "-----------------------------------------------------------------------------\n",
    "| food      | 0     | 1/4   | 1/4    | log(3/2)=0.58|  0    | 0.145 | 0.145 |\n",
    "-----------------------------------------------------------------------------\n",
    "| delicious | 0     | 1/4   | 0      | log(3/1)=1.58|  0    | 0.39  | 0     |\n",
    "-----------------------------------------------------------------------------\n",
    "| awful     | 0     | 0     | 1/4    | log(3/1)=1.58|  0    | 0     | 0.39  |\n",
    "*****************************************************************************\n",
    "\n",
    "\"\"\"\n",
    "\n",
    "#IfidVectorizer\n",
    "from sklearn.feature_extraction import TfidfVectorizer\n",
    "import pandas as pd\n",
    "\n",
    "tfid=TfidfVectorizer(stop_words={' '})\n",
    "\n",
    "doc=[\"The Burger is tasty\",\"The Food is delicious\",\"The Food is awful\"]\n",
    "\n",
    "doc_vector=tfid.fit_transform(doc)\n",
    "\n",
    "print(tfid.get_feature_names())"
   ]
  }
 ],
 "metadata": {
  "kernelspec": {
   "display_name": "Python 3",
   "language": "python",
   "name": "python3"
  },
  "language_info": {
   "codemirror_mode": {
    "name": "ipython",
    "version": 3
   },
   "file_extension": ".py",
   "mimetype": "text/x-python",
   "name": "python",
   "nbconvert_exporter": "python",
   "pygments_lexer": "ipython3",
   "version": "3.8.8"
  }
 },
 "nbformat": 4,
 "nbformat_minor": 5
}
